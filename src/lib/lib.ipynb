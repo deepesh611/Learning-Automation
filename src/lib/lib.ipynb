{
 "cells": [
  {
   "cell_type": "markdown",
   "metadata": {},
   "source": [
    "# **Learning Automation**\n",
    "### *Import Required Modules*"
   ]
  },
  {
   "cell_type": "code",
   "execution_count": null,
   "metadata": {},
   "outputs": [],
   "source": [
    "import os\n",
    "import psutil\n",
    "import requests\n",
    "import subprocess\n",
    "from colorama import Fore"
   ]
  },
  {
   "cell_type": "markdown",
   "metadata": {},
   "source": [
    "### *Defining Paths/Const*"
   ]
  },
  {
   "cell_type": "code",
   "execution_count": null,
   "metadata": {},
   "outputs": [],
   "source": [
    "repo_path = \"D:\\\\Codings\\\\\"\n",
    "vscode_path = r\"D:\\Microsoft VS Code\\Code.exe\"\n",
    "gitkraken_path = r\"<path to gitkraken.exe>\"\n",
    "edge_path = r\"C:\\Program Files (x86)\\Microsoft\\Edge\\Application\\msedge.exe\"\n",
    "\n",
    "COLORS = {\n",
    "    'blue': '\\033[34m',\n",
    "    'yellow': '\\033[33m',\n",
    "    'green': '\\033[32m',\n",
    "    'red': '\\033[31m',\n",
    "    'cyan': '\\033[36m',\n",
    "    'magenta': '\\033[35m',\n",
    "    'reset': '\\033[0m',\n",
    "    'white': '\\033[37m'\n",
    "}"
   ]
  },
  {
   "cell_type": "markdown",
   "metadata": {},
   "source": [
    "### *Defining Functions*\n",
    "1. Function to Close Specific Applications on the Desktop"
   ]
  },
  {
   "cell_type": "code",
   "execution_count": null,
   "metadata": {},
   "outputs": [],
   "source": [
    "def close_specific_applications():\n",
    "    apps_to_close = [\"Code\", \"msedge\", \"chrome\", \"GitKraken\", \"WhatsApp\", \"Calculator\", \"notepad\", \"Excel\", \"Word\", \"VirtualBox\", \"PowerPoint\", \"OneNote\"]\n",
    "\n",
    "    # Iterate over all running processes\n",
    "    for proc in psutil.process_iter(['pid', 'name']):\n",
    "        try:\n",
    "            # Check if the process name matches any app in the list\n",
    "            for app in apps_to_close:\n",
    "                if app.lower() in proc.info['name'].lower():\n",
    "                    print(Fore.YELLOW + f\"Attempting to close: {proc.info['name']}\" + Fore.RESET)\n",
    "                    proc.terminate()\n",
    "                    proc.wait(timeout=5)\n",
    "                    print(Fore.GREEN + f\"{proc.info['name']} closed successfully.\" + Fore.RESET)\n",
    "                    \n",
    "                    break           # Exit loop after terminating the process\n",
    "                \n",
    "        except (psutil.NoSuchProcess, psutil.AccessDenied, psutil.ZombieProcess, psutil.TimeoutExpired):\n",
    "            continue"
   ]
  },
  {
   "cell_type": "markdown",
   "metadata": {},
   "source": [
    "2. Function that closes the localhost active ports from 3000-3010"
   ]
  },
  {
   "cell_type": "code",
   "execution_count": null,
   "metadata": {},
   "outputs": [],
   "source": [
    "def close_ports_3000_to_3010():\n",
    "    for conn in psutil.net_connections(kind='inet'):\n",
    "        if 3000 <= conn.laddr.port <= 3010 and conn.status == psutil.CONN_LISTEN:\n",
    "            try:\n",
    "                proc = psutil.Process(conn.pid)\n",
    "                print(Fore.YELLOW + f\"Closing process {proc.name()} using port {conn.laddr.port}\" + Fore.RESET)\n",
    "                proc.terminate()\n",
    "                proc.wait(timeout=5)\n",
    "                print(Fore.YELLOW + \"Process terminated successfully...\" + Fore.RESET)\n",
    "            \n",
    "            except (psutil.NoSuchProcess, psutil.AccessDenied, psutil.ZombieProcess, psutil.TimeoutExpired):\n",
    "                continue"
   ]
  },
  {
   "cell_type": "markdown",
   "metadata": {},
   "source": [
    "3. Function to open VS Code with a Repository"
   ]
  },
  {
   "cell_type": "code",
   "execution_count": null,
   "metadata": {},
   "outputs": [],
   "source": [
    "def open_vscode(repo_path):\n",
    "    try:\n",
    "        if not os.path.exists(vscode_path):\n",
    "            raise FileNotFoundError(Fore.RED + f\"VS Code executable not found at {vscode_path}\" + Fore.RESET) \n",
    "        subprocess.Popen([vscode_path, repo_path])\n",
    "        print(Fore.GREEN + f\"VS Code opened with repo: {repo_path}.\" + Fore.RESET)\n",
    "        \n",
    "    except Exception as e:\n",
    "        print(Fore.RED + f\"Failed to open VS Code: {e}\" + Fore.RESET)"
   ]
  },
  {
   "cell_type": "markdown",
   "metadata": {},
   "source": [
    "4. Function to perform `git pull` on a repository"
   ]
  },
  {
   "cell_type": "code",
   "execution_count": null,
   "metadata": {},
   "outputs": [],
   "source": [
    "def perform_git_pull(repo_path):\n",
    "    try:\n",
    "        result = subprocess.run([\"git\", \"pull\"], cwd=repo_path, capture_output=True, text=True)\n",
    "        print(result.stdout)\n",
    "        if result.returncode == 0:\n",
    "            print(Fore.GREEN + \"git pull completed successfully.\" + Fore.RESET)\n",
    "        else:\n",
    "            print(Fore.RED + f\"git pull failed: {result.stderr}\" + Fore.RESET)\n",
    "            \n",
    "    except Exception as e:\n",
    "        print(Fore.RED + f\"Failed to perform git pull: {e}\" + Fore.RESET)"
   ]
  },
  {
   "cell_type": "markdown",
   "metadata": {},
   "source": [
    "5. Function to run `npm run dev`"
   ]
  },
  {
   "cell_type": "code",
   "execution_count": null,
   "metadata": {},
   "outputs": [],
   "source": [
    "def run_npm_dev(repo_path):\n",
    "    try:        \n",
    "        package_json_path = os.path.join(repo_path, \"package.json\")\n",
    "        if not os.path.exists(package_json_path):\n",
    "            raise FileNotFoundError(f\"package.json not found at {repo_path}\")\n",
    "        \n",
    "        with open(package_json_path, \"r\") as file:\n",
    "            package_json = file.read()\n",
    "            if '\"dev\"' not in package_json:\n",
    "                raise ValueError(f\"No 'dev' script found in package.json at {repo_path}\")\n",
    "        \n",
    "        subprocess.Popen(f\"cd {repo_path} && npm run dev\", shell=True)\n",
    "        print(Fore.GREEN + \"npm run dev started.\" + Fore.RESET)\n",
    "        \n",
    "    except Exception as e:\n",
    "        print(Fore.RED + f\"Failed to run npm run dev: {e}\" + Fore.RESET)"
   ]
  },
  {
   "cell_type": "markdown",
   "metadata": {},
   "source": [
    "6. Open localhost (only active port(s)) in MS Edge"
   ]
  },
  {
   "cell_type": "code",
   "execution_count": null,
   "metadata": {},
   "outputs": [],
   "source": [
    "def open_localhost_in_edge():\n",
    "    try:\n",
    "        if not os.path.exists(edge_path):\n",
    "            raise FileNotFoundError(f\"Microsoft Edge executable not found at {edge_path}\")\n",
    "        \n",
    "        active_port = None\n",
    "        for port in range(3000, 3011):\n",
    "            try:\n",
    "                response = requests.get(f\"http://localhost:{port}\")\n",
    "                if response.status_code == 200:\n",
    "                    active_port = port\n",
    "                    break\n",
    "            except requests.ConnectionError:\n",
    "                continue\n",
    "\n",
    "        if active_port is not None:\n",
    "            url = f\"http://localhost:{active_port}\"\n",
    "            subprocess.run([edge_path, url])\n",
    "            print(Fore.GREEN + f\"/nOpened {url} in Microsoft Edge.\" + Fore.RESET)\n",
    "        else:\n",
    "            print(Fore.RED + \"No active server found on ports 3000 to 3010.\" + Fore.RESET)\n",
    "            \n",
    "    except Exception as e:\n",
    "        print(Fore.RED + f\"/nFailed to open localhost in Edge: {e}\" + Fore.RESET)\n"
   ]
  },
  {
   "cell_type": "markdown",
   "metadata": {},
   "source": [
    "7. Function to open Git Kraken"
   ]
  },
  {
   "cell_type": "code",
   "execution_count": null,
   "metadata": {},
   "outputs": [],
   "source": [
    "def open_gitkraken():\n",
    "    try:\n",
    "        if not os.path.exists(gitkraken_path):\n",
    "            raise FileNotFoundError(f\"GitKraken executable not found at {gitkraken_path}\")\n",
    "        subprocess.Popen([gitkraken_path])\n",
    "        print(Fore.GREEN + f\"GitKraken opened.\" + Fore.RESET)\n",
    "    except Exception as e:\n",
    "        print(Fore.RED + f\"Failed to open GitKraken: {e}\" + Fore.RESET)"
   ]
  },
  {
   "cell_type": "markdown",
   "metadata": {},
   "source": [
    "8. Function that opens `WhatsApp` application on the Desktop"
   ]
  },
  {
   "cell_type": "code",
   "execution_count": null,
   "metadata": {},
   "outputs": [],
   "source": [
    "def open_whatsapp():\n",
    "    try:\n",
    "        subprocess.run([\"explorer.exe\", \"shell:appsFolder\\\\5319275A.WhatsAppDesktop_cv1g1gvanyjgm!App\"])\n",
    "        print(Fore.GREEN + \"WhatsApp opened.\" + Fore.RESET)\n",
    "    except Exception as e:\n",
    "        print(Fore.RED + f\"Failed to open WhatsApp: {e}\" + Fore.RESET)"
   ]
  },
  {
   "cell_type": "markdown",
   "metadata": {},
   "source": [
    "9. Function to open `OutLook` Application on the Desktop"
   ]
  },
  {
   "cell_type": "code",
   "execution_count": null,
   "metadata": {},
   "outputs": [],
   "source": [
    "def open_outlook():\n",
    "    try:\n",
    "        subprocess.run([\"explorer.exe\", \"shell:appsFolder\\\\Microsoft.Office.Desktop.Outlook\"])\n",
    "        print(Fore.GREEN + \"Outlook opened.\" + Fore.RESET)\n",
    "        \n",
    "    except Exception as e:\n",
    "        print(Fore.RED + f\"Failed to open Outlook: {e}\" + Fore.RESET)"
   ]
  },
  {
   "cell_type": "markdown",
   "metadata": {},
   "source": [
    "10. Open `Microsoft To-Do` Application"
   ]
  },
  {
   "cell_type": "code",
   "execution_count": null,
   "metadata": {},
   "outputs": [],
   "source": [
    "def open_ms_to_do():\n",
    "    try:\n",
    "        subprocess.run([\"explorer.exe\", \"shell:appsFolder\\\\Microsoft.Todos_8wekyb3d8bbwe!App\"])\n",
    "        print(Fore.GREEN + \"Microsoft To Do opened.\" + Fore.RESET, end='')\n",
    "    except Exception as e:\n",
    "        print(Fore.RED + f\"Failed to open Microsoft To Do: {e}\" + Fore.RESET, end='')"
   ]
  }
 ],
 "metadata": {
  "language_info": {
   "name": "python"
  }
 },
 "nbformat": 4,
 "nbformat_minor": 2
}
